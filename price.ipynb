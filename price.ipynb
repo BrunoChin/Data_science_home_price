{
  "nbformat": 4,
  "nbformat_minor": 0,
  "metadata": {
    "colab": {
      "provenance": [],
      "authorship_tag": "ABX9TyNyWwifcntN7/0RN9oBrVga",
      "include_colab_link": true
    },
    "kernelspec": {
      "name": "python3",
      "display_name": "Python 3"
    },
    "language_info": {
      "name": "python"
    }
  },
  "cells": [
    {
      "cell_type": "markdown",
      "metadata": {
        "id": "view-in-github",
        "colab_type": "text"
      },
      "source": [
        "<a href=\"https://colab.research.google.com/github/BrunoChin/Data_science_home_price/blob/main/price.ipynb\" target=\"_parent\"><img src=\"https://colab.research.google.com/assets/colab-badge.svg\" alt=\"Open In Colab\"/></a>"
      ]
    },
    {
      "cell_type": "code",
      "execution_count": 2,
      "metadata": {
        "id": "A_jJRgjngRM1"
      },
      "outputs": [],
      "source": [
        "import pandas as pd\n",
        "import numpy as np\n",
        "import matplotlib.pyplot as plt\n",
        "from sklearn.preprocessing import OneHotEncoder, MinMaxScaler\n",
        "from sklearn.model_selection import train_test_split, cross_val_score\n",
        "from sklearn.ensemble import RandomForestRegressor\n",
        "from sklearn.metrics import r2_score"
      ]
    },
    {
      "cell_type": "markdown",
      "source": [
        "# Analise dos dados"
      ],
      "metadata": {
        "id": "jwQB1u7vQ0NF"
      }
    },
    {
      "cell_type": "code",
      "source": [
        "df = pd.read_csv(\"melb_data.csv\")\n",
        "\n",
        "df.head(10)"
      ],
      "metadata": {
        "id": "Yyy2uC2vRCc-"
      },
      "execution_count": null,
      "outputs": []
    },
    {
      "cell_type": "code",
      "source": [
        "df.info()"
      ],
      "metadata": {
        "id": "E8OTcDZmRb7l"
      },
      "execution_count": null,
      "outputs": []
    },
    {
      "cell_type": "code",
      "source": [
        "home_features = [\"Rooms\", \"Landsize\", \"Car\", \"Lattitude\", \"Longtitude\"]"
      ],
      "metadata": {
        "id": "iXl-TaUJTp2N"
      },
      "execution_count": 9,
      "outputs": []
    },
    {
      "cell_type": "code",
      "source": [
        "x = df[home_features]\n",
        "\n",
        "y = df[\"Price\"]\n"
      ],
      "metadata": {
        "id": "f6lNS1nxUaJN"
      },
      "execution_count": 10,
      "outputs": []
    },
    {
      "cell_type": "code",
      "source": [
        "x.describe()"
      ],
      "metadata": {
        "id": "h7oVa2XnUrbr"
      },
      "execution_count": null,
      "outputs": []
    },
    {
      "cell_type": "code",
      "source": [
        "x.isna().sum()"
      ],
      "metadata": {
        "id": "ZhkAdWnwVeic"
      },
      "execution_count": null,
      "outputs": []
    },
    {
      "cell_type": "code",
      "source": [
        "x['Landsize'].value_counts()"
      ],
      "metadata": {
        "id": "FLdhTpDKWPnv"
      },
      "execution_count": null,
      "outputs": []
    },
    {
      "cell_type": "code",
      "source": [
        "x['Rooms'].value_counts()"
      ],
      "metadata": {
        "colab": {
          "base_uri": "https://localhost:8080/"
        },
        "id": "frdhbZ-pbcVz",
        "outputId": "6dfac36d-2d7f-4e42-ceea-58b7a79e2b40"
      },
      "execution_count": 52,
      "outputs": [
        {
          "output_type": "execute_result",
          "data": {
            "text/plain": [
              "3     5562\n",
              "4     2643\n",
              "2     2461\n",
              "5      593\n",
              "1      232\n",
              "6       64\n",
              "7       10\n",
              "8        8\n",
              "10       1\n",
              "Name: Rooms, dtype: int64"
            ]
          },
          "metadata": {},
          "execution_count": 52
        }
      ]
    },
    {
      "cell_type": "markdown",
      "source": [
        "# Tratamento de dados\n"
      ],
      "metadata": {
        "id": "RJV67o2nZRzD"
      }
    },
    {
      "cell_type": "code",
      "source": [
        "x = x.drop(x[x['Landsize'] < 10.0].index)"
      ],
      "metadata": {
        "id": "4-cRrvIzY_1h"
      },
      "execution_count": 48,
      "outputs": []
    },
    {
      "cell_type": "code",
      "source": [
        "x = x.drop(x[x['Car'].isna() == True].index)"
      ],
      "metadata": {
        "id": "mExtiglyYLnq"
      },
      "execution_count": 31,
      "outputs": []
    },
    {
      "cell_type": "code",
      "source": [
        "x.isna().sum()"
      ],
      "metadata": {
        "id": "JAmjwK2XY0oS"
      },
      "execution_count": null,
      "outputs": []
    }
  ]
}